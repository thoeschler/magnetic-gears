{
 "cells": [
  {
   "cell_type": "code",
   "execution_count": 1,
   "id": "de15da92",
   "metadata": {},
   "outputs": [
    {
     "data": {
      "text/latex": [
       "$\\displaystyle \\left[\\begin{matrix}- \\left(\\cos{\\left(\\vartheta \\right)} + 2\\right) \\sin^{2}{\\left(\\vartheta \\right)} \\cos^{2}{\\left(\\varphi \\right)} + \\sin^{2}{\\left(\\varphi \\right)} \\cos{\\left(\\vartheta \\right)} + \\cos^{2}{\\left(\\varphi \\right)} \\cos{\\left(\\vartheta \\right)} \\cos{\\left(2 \\vartheta \\right)} & - \\left(3 \\cos{\\left(\\vartheta \\right)} + 2\\right) \\sin{\\left(\\varphi \\right)} \\sin^{2}{\\left(\\vartheta \\right)} \\cos{\\left(\\varphi \\right)} & \\left(3 \\sin^{2}{\\left(\\vartheta \\right)} - 2 \\cos{\\left(\\vartheta \\right)} - 2\\right) \\sin{\\left(\\vartheta \\right)} \\cos{\\left(\\varphi \\right)}\\\\- \\left(3 \\cos{\\left(\\vartheta \\right)} + 2\\right) \\sin{\\left(\\varphi \\right)} \\sin^{2}{\\left(\\vartheta \\right)} \\cos{\\left(\\varphi \\right)} & - 3 \\sin^{2}{\\left(\\varphi \\right)} \\sin^{2}{\\left(\\vartheta \\right)} \\cos{\\left(\\vartheta \\right)} - 2 \\sin^{2}{\\left(\\varphi \\right)} \\sin^{2}{\\left(\\vartheta \\right)} + \\cos{\\left(\\vartheta \\right)} & \\left(3 \\sin^{2}{\\left(\\vartheta \\right)} - 2 \\cos{\\left(\\vartheta \\right)} - 2\\right) \\sin{\\left(\\varphi \\right)} \\sin{\\left(\\vartheta \\right)}\\\\\\left(3 \\sin^{2}{\\left(\\vartheta \\right)} - 2 \\cos{\\left(\\vartheta \\right)} - 2\\right) \\sin{\\left(\\vartheta \\right)} \\cos{\\left(\\varphi \\right)} & \\left(3 \\sin^{2}{\\left(\\vartheta \\right)} - 2 \\cos{\\left(\\vartheta \\right)} - 2\\right) \\sin{\\left(\\varphi \\right)} \\sin{\\left(\\vartheta \\right)} & \\left(3 \\sin^{2}{\\left(\\vartheta \\right)} - 2 \\cos{\\left(\\vartheta \\right)}\\right) \\cos{\\left(\\vartheta \\right)}\\end{matrix}\\right]$"
      ],
      "text/plain": [
       "Matrix([\n",
       "[-(cos(vartheta) + 2)*sin(vartheta)**2*cos(varphi)**2 + sin(varphi)**2*cos(vartheta) + cos(varphi)**2*cos(vartheta)*cos(2*vartheta),                                      -(3*cos(vartheta) + 2)*sin(varphi)*sin(vartheta)**2*cos(varphi), (3*sin(vartheta)**2 - 2*cos(vartheta) - 2)*sin(vartheta)*cos(varphi)],\n",
       "[                                                                   -(3*cos(vartheta) + 2)*sin(varphi)*sin(vartheta)**2*cos(varphi), -3*sin(varphi)**2*sin(vartheta)**2*cos(vartheta) - 2*sin(varphi)**2*sin(vartheta)**2 + cos(vartheta), (3*sin(vartheta)**2 - 2*cos(vartheta) - 2)*sin(varphi)*sin(vartheta)],\n",
       "[                                                              (3*sin(vartheta)**2 - 2*cos(vartheta) - 2)*sin(vartheta)*cos(varphi),                                 (3*sin(vartheta)**2 - 2*cos(vartheta) - 2)*sin(varphi)*sin(vartheta),                 (3*sin(vartheta)**2 - 2*cos(vartheta))*cos(vartheta)]])"
      ]
     },
     "execution_count": 1,
     "metadata": {},
     "output_type": "execute_result"
    }
   ],
   "source": [
    "import sympy as sy\n",
    "\n",
    "theta, phi = sy.symbols(\"vartheta varphi\")\n",
    "\n",
    "# transformation matrix between spherical and cartesian coordinates\n",
    "Q = sy.Matrix([\n",
    "    [sy.sin(theta) * sy.cos(phi), sy.sin(theta) * sy.sin(phi), sy.cos(theta)],\n",
    "    [sy.cos(theta) * sy.cos(phi), sy.cos(theta) * sy.sin(phi), - sy.sin(theta)],\n",
    "    [- sy.sin(phi), sy.cos(phi), 0]\n",
    "])\n",
    "\n",
    "# we get this matrix w.r.t spherical coordinates when computing the force between spherical permanent magnets\n",
    "mat = sy.Matrix([\n",
    "    [-2, - sy.sin(theta), 0],\n",
    "    [- sy.sin(theta), sy.cos(theta), 0],\n",
    "    [0, 0, sy.cos(theta)]\n",
    "])\n",
    "\n",
    "# transform to cartesian coordinates\n",
    "mat_cart = Q.T * mat * Q\n",
    "sy.simplify(mat_cart)"
   ]
  },
  {
   "cell_type": "code",
   "execution_count": 2,
   "id": "1d6ba945",
   "metadata": {},
   "outputs": [
    {
     "data": {
      "text/latex": [
       "$\\displaystyle \\left[\\begin{matrix}\\cos{\\left(\\vartheta \\right)} & 0 & 0\\\\0 & \\frac{\\cos{\\left(\\vartheta \\right)}}{4} + \\cos{\\left(2 \\vartheta \\right)} + \\frac{3 \\cos{\\left(3 \\vartheta \\right)}}{4} - 1 & \\left(3 \\sin^{2}{\\left(\\vartheta \\right)} - 2 \\cos{\\left(\\vartheta \\right)} - 2\\right) \\sin{\\left(\\vartheta \\right)}\\\\0 & \\left(3 \\sin^{2}{\\left(\\vartheta \\right)} - 2 \\cos{\\left(\\vartheta \\right)} - 2\\right) \\sin{\\left(\\vartheta \\right)} & \\left(3 \\sin^{2}{\\left(\\vartheta \\right)} - 2 \\cos{\\left(\\vartheta \\right)}\\right) \\cos{\\left(\\vartheta \\right)}\\end{matrix}\\right]$"
      ],
      "text/plain": [
       "Matrix([\n",
       "[cos(vartheta),                                                           0,                                                        0],\n",
       "[            0, cos(vartheta)/4 + cos(2*vartheta) + 3*cos(3*vartheta)/4 - 1, (3*sin(vartheta)**2 - 2*cos(vartheta) - 2)*sin(vartheta)],\n",
       "[            0,    (3*sin(vartheta)**2 - 2*cos(vartheta) - 2)*sin(vartheta),     (3*sin(vartheta)**2 - 2*cos(vartheta))*cos(vartheta)]])"
      ]
     },
     "execution_count": 2,
     "metadata": {},
     "output_type": "execute_result"
    }
   ],
   "source": [
    "# special case: phi = pi / 2 \n",
    "mat_cart_simpl = mat_cart.subs(phi, sy.pi / 2)\n",
    "mat_cart_simpl.simplify()\n",
    "mat_cart_simpl"
   ]
  },
  {
   "cell_type": "code",
   "execution_count": 3,
   "id": "df6fd561",
   "metadata": {},
   "outputs": [
    {
     "data": {
      "text/latex": [
       "$\\displaystyle \\left[\\begin{matrix}0 & 0 & 0\\\\0 & -2 & 1\\\\0 & 1 & 0\\end{matrix}\\right]$"
      ],
      "text/plain": [
       "Matrix([\n",
       "[0,  0, 0],\n",
       "[0, -2, 1],\n",
       "[0,  1, 0]])"
      ]
     },
     "execution_count": 3,
     "metadata": {},
     "output_type": "execute_result"
    }
   ],
   "source": [
    "# more special case: theta = pi / 2 \n",
    "mat_cart_simpl_further = mat_cart_simpl.subs(theta, sy.pi / 2)\n",
    "mat_cart_simpl_further.simplify()\n",
    "mat_cart_simpl_further"
   ]
  },
  {
   "cell_type": "code",
   "execution_count": null,
   "id": "758a969a",
   "metadata": {},
   "outputs": [],
   "source": []
  }
 ],
 "metadata": {
  "kernelspec": {
   "display_name": "Python 3 (ipykernel)",
   "language": "python",
   "name": "python3"
  },
  "language_info": {
   "codemirror_mode": {
    "name": "ipython",
    "version": 3
   },
   "file_extension": ".py",
   "mimetype": "text/x-python",
   "name": "python",
   "nbconvert_exporter": "python",
   "pygments_lexer": "ipython3",
   "version": "3.9.13"
  }
 },
 "nbformat": 4,
 "nbformat_minor": 5
}
