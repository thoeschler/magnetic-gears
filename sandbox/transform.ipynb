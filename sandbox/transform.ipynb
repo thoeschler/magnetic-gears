{
 "cells": [
  {
   "cell_type": "code",
   "execution_count": 8,
   "id": "de15da92",
   "metadata": {},
   "outputs": [
    {
     "data": {
      "text/latex": [
       "$\\displaystyle \\left[\\begin{matrix}\\left(5 \\sin^{2}{\\left(\\varphi \\right)} \\sin^{2}{\\left(\\vartheta \\right)} - 5 \\sin^{2}{\\left(\\vartheta \\right)} + 1\\right) \\cos{\\left(\\vartheta \\right)} & - 5 \\sin{\\left(\\varphi \\right)} \\sin^{2}{\\left(\\vartheta \\right)} \\cos{\\left(\\varphi \\right)} \\cos{\\left(\\vartheta \\right)} & - \\frac{\\left(5 \\cos{\\left(2 \\vartheta \\right)} + 3\\right) \\sin{\\left(\\vartheta \\right)} \\cos{\\left(\\varphi \\right)}}{2}\\\\- 5 \\sin{\\left(\\varphi \\right)} \\sin^{2}{\\left(\\vartheta \\right)} \\cos{\\left(\\varphi \\right)} \\cos{\\left(\\vartheta \\right)} & \\left(- 5 \\sin^{2}{\\left(\\varphi \\right)} \\sin^{2}{\\left(\\vartheta \\right)} + 1\\right) \\cos{\\left(\\vartheta \\right)} & - \\frac{\\left(5 \\cos{\\left(2 \\vartheta \\right)} + 3\\right) \\sin{\\left(\\varphi \\right)} \\sin{\\left(\\vartheta \\right)}}{2}\\\\- \\frac{\\left(5 \\cos{\\left(2 \\vartheta \\right)} + 3\\right) \\sin{\\left(\\vartheta \\right)} \\cos{\\left(\\varphi \\right)}}{2} & - \\frac{\\left(5 \\cos{\\left(2 \\vartheta \\right)} + 3\\right) \\sin{\\left(\\varphi \\right)} \\sin{\\left(\\vartheta \\right)}}{2} & \\left(5 \\sin^{2}{\\left(\\vartheta \\right)} - 2\\right) \\cos{\\left(\\vartheta \\right)}\\end{matrix}\\right]$"
      ],
      "text/plain": [
       "Matrix([\n",
       "[(5*sin(varphi)**2*sin(vartheta)**2 - 5*sin(vartheta)**2 + 1)*cos(vartheta), -5*sin(varphi)*sin(vartheta)**2*cos(varphi)*cos(vartheta), -(5*cos(2*vartheta) + 3)*sin(vartheta)*cos(varphi)/2],\n",
       "[                 -5*sin(varphi)*sin(vartheta)**2*cos(varphi)*cos(vartheta),    (-5*sin(varphi)**2*sin(vartheta)**2 + 1)*cos(vartheta), -(5*cos(2*vartheta) + 3)*sin(varphi)*sin(vartheta)/2],\n",
       "[                      -(5*cos(2*vartheta) + 3)*sin(vartheta)*cos(varphi)/2,      -(5*cos(2*vartheta) + 3)*sin(varphi)*sin(vartheta)/2,               (5*sin(vartheta)**2 - 2)*cos(vartheta)]])"
      ]
     },
     "execution_count": 8,
     "metadata": {},
     "output_type": "execute_result"
    }
   ],
   "source": [
    "import sympy as sy\n",
    "\n",
    "theta, phi = sy.symbols(\"vartheta varphi\")\n",
    "\n",
    "# transformation matrix between spherical and cartesian coordinates\n",
    "Q = sy.Matrix([\n",
    "    [sy.sin(theta) * sy.cos(phi), sy.sin(theta) * sy.sin(phi), sy.cos(theta)],\n",
    "    [sy.cos(theta) * sy.cos(phi), sy.cos(theta) * sy.sin(phi), - sy.sin(theta)],\n",
    "    [- sy.sin(phi), sy.cos(phi), 0]\n",
    "])\n",
    "\n",
    "# we get this matrix w.r.t spherical coordinates when computing the force between spherical permanent magnets\n",
    "mat = sy.Matrix([\n",
    "    [-2 * sy.cos(theta), - sy.sin(theta), 0],\n",
    "    [- sy.sin(theta), sy.cos(theta), 0],\n",
    "    [0, 0, sy.cos(theta)]\n",
    "])\n",
    "\n",
    "# transform to cartesian coordinates\n",
    "mat_cart = Q.T * mat * Q\n",
    "sy.simplify(mat_cart)"
   ]
  },
  {
   "cell_type": "code",
   "execution_count": 9,
   "id": "1d6ba945",
   "metadata": {},
   "outputs": [
    {
     "data": {
      "text/latex": [
       "$\\displaystyle \\left[\\begin{matrix}\\cos{\\left(\\vartheta \\right)} & 0 & 0\\\\0 & \\frac{\\left(5 \\cos{\\left(2 \\vartheta \\right)} - 3\\right) \\cos{\\left(\\vartheta \\right)}}{2} & - \\frac{\\left(5 \\cos{\\left(2 \\vartheta \\right)} + 3\\right) \\sin{\\left(\\vartheta \\right)}}{2}\\\\0 & - \\frac{\\left(5 \\cos{\\left(2 \\vartheta \\right)} + 3\\right) \\sin{\\left(\\vartheta \\right)}}{2} & \\left(5 \\sin^{2}{\\left(\\vartheta \\right)} - 2\\right) \\cos{\\left(\\vartheta \\right)}\\end{matrix}\\right]$"
      ],
      "text/plain": [
       "Matrix([\n",
       "[cos(vartheta),                                        0,                                        0],\n",
       "[            0,  (5*cos(2*vartheta) - 3)*cos(vartheta)/2, -(5*cos(2*vartheta) + 3)*sin(vartheta)/2],\n",
       "[            0, -(5*cos(2*vartheta) + 3)*sin(vartheta)/2,   (5*sin(vartheta)**2 - 2)*cos(vartheta)]])"
      ]
     },
     "execution_count": 9,
     "metadata": {},
     "output_type": "execute_result"
    }
   ],
   "source": [
    "# special case: phi = pi / 2 \n",
    "mat_cart_simpl = mat_cart.subs(phi, sy.pi / 2)\n",
    "mat_cart_simpl.simplify()\n",
    "mat_cart_simpl"
   ]
  },
  {
   "cell_type": "code",
   "execution_count": 10,
   "id": "df6fd561",
   "metadata": {},
   "outputs": [
    {
     "data": {
      "text/latex": [
       "$\\displaystyle \\left[\\begin{matrix}0 & 0 & 0\\\\0 & 0 & 1\\\\0 & 1 & 0\\end{matrix}\\right]$"
      ],
      "text/plain": [
       "Matrix([\n",
       "[0, 0, 0],\n",
       "[0, 0, 1],\n",
       "[0, 1, 0]])"
      ]
     },
     "execution_count": 10,
     "metadata": {},
     "output_type": "execute_result"
    }
   ],
   "source": [
    "# more special case: theta = pi / 2 \n",
    "mat_cart_simpl_further = mat_cart_simpl.subs(theta, sy.pi / 2)\n",
    "mat_cart_simpl_further.simplify()\n",
    "mat_cart_simpl_further"
   ]
  },
  {
   "cell_type": "code",
   "execution_count": null,
   "id": "758a969a",
   "metadata": {},
   "outputs": [],
   "source": []
  }
 ],
 "metadata": {
  "kernelspec": {
   "display_name": "fenics",
   "language": "python",
   "name": "python3"
  },
  "language_info": {
   "codemirror_mode": {
    "name": "ipython",
    "version": 3
   },
   "file_extension": ".py",
   "mimetype": "text/x-python",
   "name": "python",
   "nbconvert_exporter": "python",
   "pygments_lexer": "ipython3",
   "version": "3.10.6"
  },
  "vscode": {
   "interpreter": {
    "hash": "a83a29d20cec5a4ec00d515ca691e348a6a5ce4e665160f48b347f66b710d3ce"
   }
  }
 },
 "nbformat": 4,
 "nbformat_minor": 5
}
